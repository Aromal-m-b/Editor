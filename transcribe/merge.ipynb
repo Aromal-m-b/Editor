{
 "cells": [
  {
   "cell_type": "code",
   "execution_count": 1,
   "id": "f7559656",
   "metadata": {},
   "outputs": [],
   "source": [
    "import pandas as pd"
   ]
  },
  {
   "cell_type": "code",
   "execution_count": 2,
   "id": "115104b0",
   "metadata": {},
   "outputs": [],
   "source": [
    "transcripts = pd.read_csv(\"transcription.csv\")  # columns: start, end, text\n",
    "diarization = pd.read_csv(\"diarization_segments.csv\")  # columns: start, end, speaker"
   ]
  },
  {
   "cell_type": "code",
   "execution_count": 3,
   "id": "26c2bde6",
   "metadata": {},
   "outputs": [],
   "source": [
    "transcripts = transcripts.sort_values(by=\"start\").reset_index(drop=True)\n",
    "diarization = diarization.sort_values(by=\"Start Time (s)\").reset_index(drop=True)"
   ]
  },
  {
   "cell_type": "code",
   "execution_count": 4,
   "id": "ee363f0a",
   "metadata": {},
   "outputs": [],
   "source": [
    "merged_data = transcripts.copy()\n",
    "merged_data[\"speaker\"] = None\n",
    "d_idx = 0"
   ]
  },
  {
   "cell_type": "code",
   "execution_count": 5,
   "id": "4b8eb691",
   "metadata": {},
   "outputs": [],
   "source": [
    "for t_idx, t_row in merged_data.iterrows():\n",
    "    # Move diarization pointer forward if transcript starts after segment end\n",
    "    while d_idx < len(diarization) and t_row[\"start\"] > diarization.loc[d_idx, \"End Time (s)\"]:\n",
    "        d_idx += 1\n",
    "\n",
    "    if d_idx < len(diarization):\n",
    "        d_start = diarization.loc[d_idx, \"Start Time (s)\"]\n",
    "        d_end = diarization.loc[d_idx, \"End Time (s)\"]\n",
    "        d_speaker = diarization.loc[d_idx, \"Speaker\"]\n",
    "\n",
    "        # Assign speaker if transcript overlaps diarization segment\n",
    "        if t_row[\"end\"] >= d_start and t_row[\"start\"] <= d_end:\n",
    "            merged_data.at[t_idx, \"speaker\"] = d_speaker\n"
   ]
  },
  {
   "cell_type": "code",
   "execution_count": 6,
   "id": "babb0c90",
   "metadata": {},
   "outputs": [
    {
     "name": "stdout",
     "output_type": "stream",
     "text": [
      "✅ New dataset with speaker info saved as data.csv (original files untouched)\n"
     ]
    }
   ],
   "source": [
    "merged_data.to_csv(\"data.csv\", index=False)\n",
    "\n",
    "print(\"✅ New dataset with speaker info saved as data.csv (original files untouched)\")"
   ]
  }
 ],
 "metadata": {
  "kernelspec": {
   "display_name": "edit",
   "language": "python",
   "name": "python3"
  },
  "language_info": {
   "codemirror_mode": {
    "name": "ipython",
    "version": 3
   },
   "file_extension": ".py",
   "mimetype": "text/x-python",
   "name": "python",
   "nbconvert_exporter": "python",
   "pygments_lexer": "ipython3",
   "version": "3.10.0"
  }
 },
 "nbformat": 4,
 "nbformat_minor": 5
}
