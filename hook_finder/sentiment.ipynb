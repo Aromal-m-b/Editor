{
 "cells": [
  {
   "cell_type": "code",
   "execution_count": null,
   "id": "62ec7f78",
   "metadata": {},
   "outputs": [],
   "source": [
    "pip install transformers sentencepiece"
   ]
  },
  {
   "cell_type": "code",
   "execution_count": 8,
   "id": "455f3d7a",
   "metadata": {},
   "outputs": [],
   "source": [
    "from transformers import AutoTokenizer, AutoModelForSequenceClassification\n",
    "import torch\n",
    "import pandas as pd\n",
    "import torch.nn.functional as F"
   ]
  },
  {
   "cell_type": "code",
   "execution_count": 12,
   "id": "aa6e18b3",
   "metadata": {},
   "outputs": [],
   "source": [
    "model_name = \"nlptown/bert-base-multilingual-uncased-sentiment\"\n",
    "\n",
    "tokenizer = AutoTokenizer.from_pretrained(model_name)\n",
    "model = AutoModelForSequenceClassification.from_pretrained(model_name)\n",
    "device = torch.device(\"cuda\" if torch.cuda.is_available() else \"cpu\")\n",
    "model = model.to(device)"
   ]
  },
  {
   "cell_type": "code",
   "execution_count": null,
   "id": "e67879a1",
   "metadata": {},
   "outputs": [],
   "source": [
    "text = \"This is amazing!\"\n",
    "inputs = tokenizer(text, return_tensors=\"pt\", truncation=True)"
   ]
  },
  {
   "cell_type": "code",
   "execution_count": 7,
   "id": "0cd10d23",
   "metadata": {},
   "outputs": [],
   "source": [
    "merged = pd.read_csv(\"../transcribe/data.csv\")\n",
    "merged['sentiment_score'] = None\n",
    "merged['sentiment_confidence'] = None\n",
    "merged['hook_score'] = None\n",
    "merged['hook_confidence'] = None"
   ]
  },
  {
   "cell_type": "code",
   "execution_count": 13,
   "id": "f82aab9a",
   "metadata": {},
   "outputs": [],
   "source": [
    "for idx, row in merged.iterrows():\n",
    "    text = row['text']\n",
    "    inputs = tokenizer(text, return_tensors=\"pt\", truncation=True, padding=True).to(device)\n",
    "    with torch.no_grad():\n",
    "        outputs = model(**inputs)\n",
    "        probs = F.softmax(outputs.logits, dim=1)\n",
    "    pred_class = torch.argmax(probs, dim=1).item() + 1\n",
    "    confidence = probs[0, pred_class - 1].item()\n",
    "    merged.at[idx, 'sentiment_score'] = pred_class\n",
    "    merged.at[idx, 'sentiment_confidence'] = round(confidence, 4)"
   ]
  },
  {
   "cell_type": "code",
   "execution_count": 14,
   "id": "aef49551",
   "metadata": {},
   "outputs": [
    {
     "name": "stdout",
     "output_type": "stream",
     "text": [
      "   start    end                                               text  \\\n",
      "0   0.00   3.24   The following is a conversation with Jack Wea...   \n",
      "1   3.24   5.32                      anthropologist and historian,   \n",
      "2   5.32   9.80   specializing in Genghis Khan and the Mongol E...   \n",
      "3   9.80  12.40      He has written a legendary book on this topic   \n",
      "4  12.40  15.40   titled Genghis Khan and the Making of the Mod...   \n",
      "\n",
      "      speaker sentiment_score sentiment_confidence hook_score hook_confidence  \n",
      "0  SPEAKER_01               4               0.4115       None            None  \n",
      "1  SPEAKER_01               5                0.336       None            None  \n",
      "2  SPEAKER_01               4               0.4449       None            None  \n",
      "3  SPEAKER_01               5               0.6852       None            None  \n",
      "4  SPEAKER_01               5               0.3773       None            None  \n"
     ]
    }
   ],
   "source": [
    "print(merged.head())"
   ]
  },
  {
   "cell_type": "code",
   "execution_count": 15,
   "id": "43c017a2",
   "metadata": {},
   "outputs": [],
   "source": [
    "merged.to_csv(\"analysis.csv\", index=False)"
   ]
  }
 ],
 "metadata": {
  "kernelspec": {
   "display_name": "edit",
   "language": "python",
   "name": "python3"
  },
  "language_info": {
   "codemirror_mode": {
    "name": "ipython",
    "version": 3
   },
   "file_extension": ".py",
   "mimetype": "text/x-python",
   "name": "python",
   "nbconvert_exporter": "python",
   "pygments_lexer": "ipython3",
   "version": "3.10.0"
  }
 },
 "nbformat": 4,
 "nbformat_minor": 5
}
