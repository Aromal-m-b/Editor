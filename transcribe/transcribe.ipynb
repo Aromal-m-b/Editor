{
 "cells": [
  {
   "cell_type": "markdown",
   "id": "2bf9529d-2133-4a80-b047-df2cf8256a35",
   "metadata": {},
   "source": [
    "### Package Installation"
   ]
  },
  {
   "cell_type": "code",
   "execution_count": null,
   "id": "95d76bb2-9e93-4f9f-9c98-bb3e2870d23c",
   "metadata": {},
   "outputs": [],
   "source": [
    "pip install faster-whisper"
   ]
  },
  {
   "cell_type": "code",
   "execution_count": null,
   "id": "e8491d61-74ca-4477-bb9f-992f2eea764d",
   "metadata": {},
   "outputs": [],
   "source": [
    "pip install pandas"
   ]
  },
  {
   "cell_type": "markdown",
   "id": "0686af44-6e91-4deb-9dfc-4412d756cbf6",
   "metadata": {},
   "source": [
    "### Transcribing Audio -> Text"
   ]
  },
  {
   "cell_type": "code",
   "execution_count": null,
   "id": "70f9459b-7d35-4107-8e37-74869c68949d",
   "metadata": {},
   "outputs": [],
   "source": [
    "from faster_whisper import WhisperModel\n",
    "model = WhisperModel(\"medium\", device=\"cuda\", compute_type=\"float16\")\n",
    "segments, _ = model.transcribe(\"../Poadcasts/output.mp4\")"
   ]
  },
  {
   "cell_type": "code",
   "execution_count": null,
   "id": "7b1f137e-28d6-4b2b-a7b8-8de76d1493df",
   "metadata": {},
   "outputs": [],
   "source": [
    "segments = list(segments) "
   ]
  },
  {
   "cell_type": "code",
   "execution_count": null,
   "id": "955a3f13-0ad8-4f49-990d-c4fc2dd40d51",
   "metadata": {},
   "outputs": [],
   "source": [
    "\n",
    "\n",
    "with open(\"transcript.txt\", \"w\", encoding=\"utf-8\") as f:\n",
    "    for segment in segments:\n",
    "        start = segment.start\n",
    "        end = segment.end\n",
    "        text = segment.text.strip()\n",
    "        f.write(f\"[{start:.2f}s - {end:.2f}s] {text}\\n\")\n"
   ]
  },
  {
   "cell_type": "code",
   "execution_count": null,
   "id": "ae01a2de-90a8-47fc-ba37-dc25c5a15abc",
   "metadata": {},
   "outputs": [],
   "source": [
    "import pandas as pd\n",
    "data = []\n",
    "\n",
    "for segment in segments:\n",
    "    data.append({\n",
    "        \"start\": segment.start,\n",
    "        \"end\": segment.end,\n",
    "        \"text\": segment.text\n",
    "    })\n",
    "\n",
    "# Create DataFrame\n",
    "df = pd.DataFrame(data)\n",
    "\n",
    "# Save to CSV\n",
    "df.to_csv(\"transcription.csv\", index=False, encoding='utf-8')\n"
   ]
  },
  {
   "cell_type": "code",
   "execution_count": null,
   "id": "a2af0d18-e3fc-4a28-a7b6-243a8e723e0c",
   "metadata": {},
   "outputs": [],
   "source": []
  }
 ],
 "metadata": {
  "kernelspec": {
   "display_name": "edit",
   "language": "python",
   "name": "edit"
  },
  "language_info": {
   "codemirror_mode": {
    "name": "ipython",
    "version": 3
   },
   "file_extension": ".py",
   "mimetype": "text/x-python",
   "name": "python",
   "nbconvert_exporter": "python",
   "pygments_lexer": "ipython3",
   "version": "3.10.0"
  }
 },
 "nbformat": 4,
 "nbformat_minor": 5
}
